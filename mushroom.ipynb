{
  "nbformat": 4,
  "nbformat_minor": 0,
  "metadata": {
    "colab": {
      "provenance": [],
      "authorship_tag": "ABX9TyOFOWdhHFOdtune2lmZUfwa",
      "include_colab_link": true
    },
    "kernelspec": {
      "name": "python3",
      "display_name": "Python 3"
    },
    "language_info": {
      "name": "python"
    }
  },
  "cells": [
    {
      "cell_type": "markdown",
      "metadata": {
        "id": "view-in-github",
        "colab_type": "text"
      },
      "source": [
        "<a href=\"https://colab.research.google.com/github/LucasRosas/MVP-2-Colab/blob/main/mushroom.ipynb\" target=\"_parent\"><img src=\"https://colab.research.google.com/assets/colab-badge.svg\" alt=\"Open In Colab\"/></a>"
      ]
    },
    {
      "cell_type": "code",
      "source": [
        "import warnings\n",
        "warnings.filterwarnings(\"ignore\")\n",
        "\n",
        "# Imports necessários\n",
        "import pandas as pd\n",
        "import numpy as np\n",
        "import matplotlib.pyplot as plt\n",
        "from sklearn.preprocessing import StandardScaler\n",
        "from sklearn.preprocessing import MinMaxScaler\n",
        "from sklearn.model_selection import train_test_split\n",
        "from sklearn.model_selection import KFold\n",
        "from sklearn.model_selection import StratifiedKFold\n",
        "from sklearn.model_selection import cross_val_score\n",
        "from sklearn.model_selection import GridSearchCV\n",
        "from sklearn.metrics import accuracy_score\n",
        "from sklearn.pipeline import Pipeline\n",
        "from sklearn.tree import DecisionTreeClassifier\n",
        "from sklearn.neighbors import KNeighborsClassifier\n",
        "from sklearn.naive_bayes import GaussianNB\n",
        "from sklearn.svm import SVC\n",
        "import joblib  # import do joblib"
      ],
      "metadata": {
        "id": "Cv_UUnStOCGU"
      },
      "execution_count": 1,
      "outputs": []
    },
    {
      "cell_type": "markdown",
      "source": [
        "## 1. Carga dos dados\n",
        "Acessei UCI Machine Learning Repository, avancei algumas páginas e encontrei \"Mushroom\", um dataset que traz características de cogumelos e a indicação se é venenoso ou comestível.\n",
        "\n",
        "Fiz o download dos dados e subi para um repositório no git. O carregamento é feito pelo raw. A documentação trouxe o nome das 23 colunas e algumas informações sobre os dados.\n",
        "\n",
        "A seguir temos a leitura dos dados, a criação do csv e a exibição das primeiras 5 linhas:"
      ],
      "metadata": {
        "id": "lE3lUP_filjk"
      }
    },
    {
      "cell_type": "code",
      "execution_count": 2,
      "metadata": {
        "colab": {
          "base_uri": "https://localhost:8080/",
          "height": 326
        },
        "id": "Ltl8Y8OLaIYr",
        "outputId": "02e34ed2-ddf3-4a1c-ab37-fd260af6b6a8"
      },
      "outputs": [
        {
          "output_type": "stream",
          "name": "stdout",
          "text": [
            "<class 'pandas.core.frame.DataFrame'>\n"
          ]
        },
        {
          "output_type": "execute_result",
          "data": {
            "text/plain": [
              "  classificacao cap-shape cap-surface cap-color bruises odor gill-attachment  \\\n",
              "0             p         x           s         n       t    p               f   \n",
              "1             e         x           s         y       t    a               f   \n",
              "2             e         b           s         w       t    l               f   \n",
              "3             p         x           y         w       t    p               f   \n",
              "4             e         x           s         g       f    n               f   \n",
              "\n",
              "  gill-spacing gill-size gill-color  ... stalk-surface-below-ring  \\\n",
              "0            c         n          k  ...                        s   \n",
              "1            c         b          k  ...                        s   \n",
              "2            c         b          n  ...                        s   \n",
              "3            c         n          n  ...                        s   \n",
              "4            w         b          k  ...                        s   \n",
              "\n",
              "  stalk-color-above-ring stalk-color-below-ring veil-type veil-color  \\\n",
              "0                      w                      w         p          w   \n",
              "1                      w                      w         p          w   \n",
              "2                      w                      w         p          w   \n",
              "3                      w                      w         p          w   \n",
              "4                      w                      w         p          w   \n",
              "\n",
              "  ring-number ring-type spore-print-color population habitat  \n",
              "0           o         p                 k          s       u  \n",
              "1           o         p                 n          n       g  \n",
              "2           o         p                 n          n       m  \n",
              "3           o         p                 k          s       u  \n",
              "4           o         e                 n          a       g  \n",
              "\n",
              "[5 rows x 23 columns]"
            ],
            "text/html": [
              "\n",
              "  <div id=\"df-ee1ef076-8db5-4c02-9bea-280f86585afc\" class=\"colab-df-container\">\n",
              "    <div>\n",
              "<style scoped>\n",
              "    .dataframe tbody tr th:only-of-type {\n",
              "        vertical-align: middle;\n",
              "    }\n",
              "\n",
              "    .dataframe tbody tr th {\n",
              "        vertical-align: top;\n",
              "    }\n",
              "\n",
              "    .dataframe thead th {\n",
              "        text-align: right;\n",
              "    }\n",
              "</style>\n",
              "<table border=\"1\" class=\"dataframe\">\n",
              "  <thead>\n",
              "    <tr style=\"text-align: right;\">\n",
              "      <th></th>\n",
              "      <th>classificacao</th>\n",
              "      <th>cap-shape</th>\n",
              "      <th>cap-surface</th>\n",
              "      <th>cap-color</th>\n",
              "      <th>bruises</th>\n",
              "      <th>odor</th>\n",
              "      <th>gill-attachment</th>\n",
              "      <th>gill-spacing</th>\n",
              "      <th>gill-size</th>\n",
              "      <th>gill-color</th>\n",
              "      <th>...</th>\n",
              "      <th>stalk-surface-below-ring</th>\n",
              "      <th>stalk-color-above-ring</th>\n",
              "      <th>stalk-color-below-ring</th>\n",
              "      <th>veil-type</th>\n",
              "      <th>veil-color</th>\n",
              "      <th>ring-number</th>\n",
              "      <th>ring-type</th>\n",
              "      <th>spore-print-color</th>\n",
              "      <th>population</th>\n",
              "      <th>habitat</th>\n",
              "    </tr>\n",
              "  </thead>\n",
              "  <tbody>\n",
              "    <tr>\n",
              "      <th>0</th>\n",
              "      <td>p</td>\n",
              "      <td>x</td>\n",
              "      <td>s</td>\n",
              "      <td>n</td>\n",
              "      <td>t</td>\n",
              "      <td>p</td>\n",
              "      <td>f</td>\n",
              "      <td>c</td>\n",
              "      <td>n</td>\n",
              "      <td>k</td>\n",
              "      <td>...</td>\n",
              "      <td>s</td>\n",
              "      <td>w</td>\n",
              "      <td>w</td>\n",
              "      <td>p</td>\n",
              "      <td>w</td>\n",
              "      <td>o</td>\n",
              "      <td>p</td>\n",
              "      <td>k</td>\n",
              "      <td>s</td>\n",
              "      <td>u</td>\n",
              "    </tr>\n",
              "    <tr>\n",
              "      <th>1</th>\n",
              "      <td>e</td>\n",
              "      <td>x</td>\n",
              "      <td>s</td>\n",
              "      <td>y</td>\n",
              "      <td>t</td>\n",
              "      <td>a</td>\n",
              "      <td>f</td>\n",
              "      <td>c</td>\n",
              "      <td>b</td>\n",
              "      <td>k</td>\n",
              "      <td>...</td>\n",
              "      <td>s</td>\n",
              "      <td>w</td>\n",
              "      <td>w</td>\n",
              "      <td>p</td>\n",
              "      <td>w</td>\n",
              "      <td>o</td>\n",
              "      <td>p</td>\n",
              "      <td>n</td>\n",
              "      <td>n</td>\n",
              "      <td>g</td>\n",
              "    </tr>\n",
              "    <tr>\n",
              "      <th>2</th>\n",
              "      <td>e</td>\n",
              "      <td>b</td>\n",
              "      <td>s</td>\n",
              "      <td>w</td>\n",
              "      <td>t</td>\n",
              "      <td>l</td>\n",
              "      <td>f</td>\n",
              "      <td>c</td>\n",
              "      <td>b</td>\n",
              "      <td>n</td>\n",
              "      <td>...</td>\n",
              "      <td>s</td>\n",
              "      <td>w</td>\n",
              "      <td>w</td>\n",
              "      <td>p</td>\n",
              "      <td>w</td>\n",
              "      <td>o</td>\n",
              "      <td>p</td>\n",
              "      <td>n</td>\n",
              "      <td>n</td>\n",
              "      <td>m</td>\n",
              "    </tr>\n",
              "    <tr>\n",
              "      <th>3</th>\n",
              "      <td>p</td>\n",
              "      <td>x</td>\n",
              "      <td>y</td>\n",
              "      <td>w</td>\n",
              "      <td>t</td>\n",
              "      <td>p</td>\n",
              "      <td>f</td>\n",
              "      <td>c</td>\n",
              "      <td>n</td>\n",
              "      <td>n</td>\n",
              "      <td>...</td>\n",
              "      <td>s</td>\n",
              "      <td>w</td>\n",
              "      <td>w</td>\n",
              "      <td>p</td>\n",
              "      <td>w</td>\n",
              "      <td>o</td>\n",
              "      <td>p</td>\n",
              "      <td>k</td>\n",
              "      <td>s</td>\n",
              "      <td>u</td>\n",
              "    </tr>\n",
              "    <tr>\n",
              "      <th>4</th>\n",
              "      <td>e</td>\n",
              "      <td>x</td>\n",
              "      <td>s</td>\n",
              "      <td>g</td>\n",
              "      <td>f</td>\n",
              "      <td>n</td>\n",
              "      <td>f</td>\n",
              "      <td>w</td>\n",
              "      <td>b</td>\n",
              "      <td>k</td>\n",
              "      <td>...</td>\n",
              "      <td>s</td>\n",
              "      <td>w</td>\n",
              "      <td>w</td>\n",
              "      <td>p</td>\n",
              "      <td>w</td>\n",
              "      <td>o</td>\n",
              "      <td>e</td>\n",
              "      <td>n</td>\n",
              "      <td>a</td>\n",
              "      <td>g</td>\n",
              "    </tr>\n",
              "  </tbody>\n",
              "</table>\n",
              "<p>5 rows × 23 columns</p>\n",
              "</div>\n",
              "    <div class=\"colab-df-buttons\">\n",
              "\n",
              "  <div class=\"colab-df-container\">\n",
              "    <button class=\"colab-df-convert\" onclick=\"convertToInteractive('df-ee1ef076-8db5-4c02-9bea-280f86585afc')\"\n",
              "            title=\"Convert this dataframe to an interactive table.\"\n",
              "            style=\"display:none;\">\n",
              "\n",
              "  <svg xmlns=\"http://www.w3.org/2000/svg\" height=\"24px\" viewBox=\"0 -960 960 960\">\n",
              "    <path d=\"M120-120v-720h720v720H120Zm60-500h600v-160H180v160Zm220 220h160v-160H400v160Zm0 220h160v-160H400v160ZM180-400h160v-160H180v160Zm440 0h160v-160H620v160ZM180-180h160v-160H180v160Zm440 0h160v-160H620v160Z\"/>\n",
              "  </svg>\n",
              "    </button>\n",
              "\n",
              "  <style>\n",
              "    .colab-df-container {\n",
              "      display:flex;\n",
              "      gap: 12px;\n",
              "    }\n",
              "\n",
              "    .colab-df-convert {\n",
              "      background-color: #E8F0FE;\n",
              "      border: none;\n",
              "      border-radius: 50%;\n",
              "      cursor: pointer;\n",
              "      display: none;\n",
              "      fill: #1967D2;\n",
              "      height: 32px;\n",
              "      padding: 0 0 0 0;\n",
              "      width: 32px;\n",
              "    }\n",
              "\n",
              "    .colab-df-convert:hover {\n",
              "      background-color: #E2EBFA;\n",
              "      box-shadow: 0px 1px 2px rgba(60, 64, 67, 0.3), 0px 1px 3px 1px rgba(60, 64, 67, 0.15);\n",
              "      fill: #174EA6;\n",
              "    }\n",
              "\n",
              "    .colab-df-buttons div {\n",
              "      margin-bottom: 4px;\n",
              "    }\n",
              "\n",
              "    [theme=dark] .colab-df-convert {\n",
              "      background-color: #3B4455;\n",
              "      fill: #D2E3FC;\n",
              "    }\n",
              "\n",
              "    [theme=dark] .colab-df-convert:hover {\n",
              "      background-color: #434B5C;\n",
              "      box-shadow: 0px 1px 3px 1px rgba(0, 0, 0, 0.15);\n",
              "      filter: drop-shadow(0px 1px 2px rgba(0, 0, 0, 0.3));\n",
              "      fill: #FFFFFF;\n",
              "    }\n",
              "  </style>\n",
              "\n",
              "    <script>\n",
              "      const buttonEl =\n",
              "        document.querySelector('#df-ee1ef076-8db5-4c02-9bea-280f86585afc button.colab-df-convert');\n",
              "      buttonEl.style.display =\n",
              "        google.colab.kernel.accessAllowed ? 'block' : 'none';\n",
              "\n",
              "      async function convertToInteractive(key) {\n",
              "        const element = document.querySelector('#df-ee1ef076-8db5-4c02-9bea-280f86585afc');\n",
              "        const dataTable =\n",
              "          await google.colab.kernel.invokeFunction('convertToInteractive',\n",
              "                                                    [key], {});\n",
              "        if (!dataTable) return;\n",
              "\n",
              "        const docLinkHtml = 'Like what you see? Visit the ' +\n",
              "          '<a target=\"_blank\" href=https://colab.research.google.com/notebooks/data_table.ipynb>data table notebook</a>'\n",
              "          + ' to learn more about interactive tables.';\n",
              "        element.innerHTML = '';\n",
              "        dataTable['output_type'] = 'display_data';\n",
              "        await google.colab.output.renderOutput(dataTable, element);\n",
              "        const docLink = document.createElement('div');\n",
              "        docLink.innerHTML = docLinkHtml;\n",
              "        element.appendChild(docLink);\n",
              "      }\n",
              "    </script>\n",
              "  </div>\n",
              "\n",
              "\n",
              "    <div id=\"df-55258ba0-01b8-45f9-8e1a-233827d93c9a\">\n",
              "      <button class=\"colab-df-quickchart\" onclick=\"quickchart('df-55258ba0-01b8-45f9-8e1a-233827d93c9a')\"\n",
              "                title=\"Suggest charts\"\n",
              "                style=\"display:none;\">\n",
              "\n",
              "<svg xmlns=\"http://www.w3.org/2000/svg\" height=\"24px\"viewBox=\"0 0 24 24\"\n",
              "     width=\"24px\">\n",
              "    <g>\n",
              "        <path d=\"M19 3H5c-1.1 0-2 .9-2 2v14c0 1.1.9 2 2 2h14c1.1 0 2-.9 2-2V5c0-1.1-.9-2-2-2zM9 17H7v-7h2v7zm4 0h-2V7h2v10zm4 0h-2v-4h2v4z\"/>\n",
              "    </g>\n",
              "</svg>\n",
              "      </button>\n",
              "\n",
              "<style>\n",
              "  .colab-df-quickchart {\n",
              "      --bg-color: #E8F0FE;\n",
              "      --fill-color: #1967D2;\n",
              "      --hover-bg-color: #E2EBFA;\n",
              "      --hover-fill-color: #174EA6;\n",
              "      --disabled-fill-color: #AAA;\n",
              "      --disabled-bg-color: #DDD;\n",
              "  }\n",
              "\n",
              "  [theme=dark] .colab-df-quickchart {\n",
              "      --bg-color: #3B4455;\n",
              "      --fill-color: #D2E3FC;\n",
              "      --hover-bg-color: #434B5C;\n",
              "      --hover-fill-color: #FFFFFF;\n",
              "      --disabled-bg-color: #3B4455;\n",
              "      --disabled-fill-color: #666;\n",
              "  }\n",
              "\n",
              "  .colab-df-quickchart {\n",
              "    background-color: var(--bg-color);\n",
              "    border: none;\n",
              "    border-radius: 50%;\n",
              "    cursor: pointer;\n",
              "    display: none;\n",
              "    fill: var(--fill-color);\n",
              "    height: 32px;\n",
              "    padding: 0;\n",
              "    width: 32px;\n",
              "  }\n",
              "\n",
              "  .colab-df-quickchart:hover {\n",
              "    background-color: var(--hover-bg-color);\n",
              "    box-shadow: 0 1px 2px rgba(60, 64, 67, 0.3), 0 1px 3px 1px rgba(60, 64, 67, 0.15);\n",
              "    fill: var(--button-hover-fill-color);\n",
              "  }\n",
              "\n",
              "  .colab-df-quickchart-complete:disabled,\n",
              "  .colab-df-quickchart-complete:disabled:hover {\n",
              "    background-color: var(--disabled-bg-color);\n",
              "    fill: var(--disabled-fill-color);\n",
              "    box-shadow: none;\n",
              "  }\n",
              "\n",
              "  .colab-df-spinner {\n",
              "    border: 2px solid var(--fill-color);\n",
              "    border-color: transparent;\n",
              "    border-bottom-color: var(--fill-color);\n",
              "    animation:\n",
              "      spin 1s steps(1) infinite;\n",
              "  }\n",
              "\n",
              "  @keyframes spin {\n",
              "    0% {\n",
              "      border-color: transparent;\n",
              "      border-bottom-color: var(--fill-color);\n",
              "      border-left-color: var(--fill-color);\n",
              "    }\n",
              "    20% {\n",
              "      border-color: transparent;\n",
              "      border-left-color: var(--fill-color);\n",
              "      border-top-color: var(--fill-color);\n",
              "    }\n",
              "    30% {\n",
              "      border-color: transparent;\n",
              "      border-left-color: var(--fill-color);\n",
              "      border-top-color: var(--fill-color);\n",
              "      border-right-color: var(--fill-color);\n",
              "    }\n",
              "    40% {\n",
              "      border-color: transparent;\n",
              "      border-right-color: var(--fill-color);\n",
              "      border-top-color: var(--fill-color);\n",
              "    }\n",
              "    60% {\n",
              "      border-color: transparent;\n",
              "      border-right-color: var(--fill-color);\n",
              "    }\n",
              "    80% {\n",
              "      border-color: transparent;\n",
              "      border-right-color: var(--fill-color);\n",
              "      border-bottom-color: var(--fill-color);\n",
              "    }\n",
              "    90% {\n",
              "      border-color: transparent;\n",
              "      border-bottom-color: var(--fill-color);\n",
              "    }\n",
              "  }\n",
              "</style>\n",
              "\n",
              "      <script>\n",
              "        async function quickchart(key) {\n",
              "          const quickchartButtonEl =\n",
              "            document.querySelector('#' + key + ' button');\n",
              "          quickchartButtonEl.disabled = true;  // To prevent multiple clicks.\n",
              "          quickchartButtonEl.classList.add('colab-df-spinner');\n",
              "          try {\n",
              "            const charts = await google.colab.kernel.invokeFunction(\n",
              "                'suggestCharts', [key], {});\n",
              "          } catch (error) {\n",
              "            console.error('Error during call to suggestCharts:', error);\n",
              "          }\n",
              "          quickchartButtonEl.classList.remove('colab-df-spinner');\n",
              "          quickchartButtonEl.classList.add('colab-df-quickchart-complete');\n",
              "        }\n",
              "        (() => {\n",
              "          let quickchartButtonEl =\n",
              "            document.querySelector('#df-55258ba0-01b8-45f9-8e1a-233827d93c9a button');\n",
              "          quickchartButtonEl.style.display =\n",
              "            google.colab.kernel.accessAllowed ? 'block' : 'none';\n",
              "        })();\n",
              "      </script>\n",
              "    </div>\n",
              "\n",
              "    </div>\n",
              "  </div>\n"
            ],
            "application/vnd.google.colaboratory.intrinsic+json": {
              "type": "dataframe",
              "variable_name": "iris"
            }
          },
          "metadata": {},
          "execution_count": 2
        }
      ],
      "source": [
        "import pandas as pd\n",
        "\n",
        "url_dados = 'https://raw.githubusercontent.com/LucasRosas/MVP-2-Colab/refs/heads/main/mushroom/agaricus-lepiota.data'\n",
        "\n",
        "# labels dos atributos do dataset\n",
        "labels_atributos = ['classificacao', 'cap-shape', 'cap-surface', 'cap-color', 'bruises', 'odor', 'gill-attachment',\n",
        "                    'gill-spacing', 'gill-size', 'gill-color', 'stalk-shape', 'stalk-root', 'stalk-surface-above-ring',\n",
        "                    'stalk-surface-below-ring', 'stalk-color-above-ring', 'stalk-color-below-ring', 'veil-type', 'veil-color',\n",
        "                    'ring-number', 'ring-type', 'spore-print-color', 'population', 'habitat']\n",
        "\n",
        "# carga do dataset através do csv\n",
        "iris = pd.read_csv(url_dados, names=labels_atributos)\n",
        "\n",
        "# verifica o tipo de iris\n",
        "print(type(iris))\n",
        "\n",
        "# exibe as 5 primeiras linhas\n",
        "iris.head()\n",
        "\n"
      ]
    },
    {
      "cell_type": "markdown",
      "source": [
        "# 2. Transformação de dados\n",
        "A transformação dos dados vai ser feita considerando apenas as primeiras 5 colunas e posteriormente será usado o OneHotEncoder quando possível para transformar as letras em vetores de números."
      ],
      "metadata": {
        "id": "4iTXj1o3jhI5"
      }
    },
    {
      "cell_type": "code",
      "source": [
        "colunas_usadas = ['cap-shape', 'cap-surface', 'cap-color', 'bruises', 'odor']"
      ],
      "metadata": {
        "id": "zVTOTIewaMty"
      },
      "execution_count": 3,
      "outputs": []
    },
    {
      "cell_type": "markdown",
      "source": [
        "## 3. Separação entre treino e teste (houldout)\n",
        "\n",
        "Primeiro fiz a separação na dimensão das linhas: X (dados) e y (Classificação).\n",
        "\n",
        "Depois, fiz a separação na dimensão das colunas: X_train (dados para treinamento), X_test (dados para teste), y_train (classificação para treinamento) e y_test (classificação para teste)\n",
        "\n",
        "Também estou salvando os dados de teste num csv."
      ],
      "metadata": {
        "id": "YsWtoobAkXQy"
      }
    },
    {
      "cell_type": "code",
      "source": [
        "from sklearn.model_selection import train_test_split\n",
        "\n",
        "test_size = 0.30 # tamanho do conjunto de teste\n",
        "seed = 42 # semente aleatória\n",
        "\n",
        "X = iris[colunas_usadas]\n",
        "y = iris['classificacao']  # 'e' para edible e 'p' para poisonous\n",
        "\n",
        "X_train, X_test, y_train, y_test =  train_test_split(X, y,\n",
        "    test_size=test_size, shuffle=True, random_state=seed, stratify=y)\n",
        "\n",
        "# Junta X_test e y_test em um único DataFrame\n",
        "test_data = pd.concat([X_test, y_test], axis=1)\n",
        "\n",
        "# Salva em um CSV\n",
        "test_data.to_csv('dados_teste.csv', index=False, encoding='utf-8')\n",
        "\n",
        "scoring = 'accuracy'\n",
        "num_particoes = 10\n",
        "kfold = StratifiedKFold(n_splits=num_particoes, shuffle=True, random_state=seed) # validação cruzada com estratificação"
      ],
      "metadata": {
        "id": "RLsbYrZLhf0z"
      },
      "execution_count": 4,
      "outputs": []
    },
    {
      "cell_type": "markdown",
      "source": [
        "## 4. Modelagem\n",
        "\n",
        "Como os dados são categóricos (letras, palavras) utilizei a técnica de One Hot Encoging para converter as variáveis em vetores binários.\n",
        "\n",
        "Depois passei para o treinamento dos modelos utilizando pipeline do sklearn, sem alterar nenhum parâmetro. O ajuste dos hiperparâmetros será feito na sequência e a análise dos resultados."
      ],
      "metadata": {
        "id": "bZxcPoRxlEno"
      }
    },
    {
      "cell_type": "code",
      "source": [
        "from sklearn.preprocessing import LabelEncoder\n",
        "\n",
        "# Transforma 'e' e 'p' para 0 e 1\n",
        "label_encoder = LabelEncoder()\n",
        "y_train_encoded = label_encoder.fit_transform(y_train)\n",
        "y_test_encoded = label_encoder.fit_transform(y_test)"
      ],
      "metadata": {
        "id": "39_dbRNV8Iah"
      },
      "execution_count": null,
      "outputs": []
    },
    {
      "cell_type": "code",
      "source": [
        "from sklearn.pipeline import Pipeline\n",
        "from sklearn.neighbors import KNeighborsClassifier\n",
        "from sklearn.tree import DecisionTreeClassifier\n",
        "from sklearn.naive_bayes import GaussianNB\n",
        "from sklearn.svm import SVC\n",
        "from sklearn.preprocessing import StandardScaler\n",
        "\n",
        "from sklearn.preprocessing import OneHotEncoder\n",
        "from sklearn.compose import ColumnTransformer\n",
        "\n",
        "np.random.seed(7) # definindo uma semente global\n",
        "\n",
        "\n",
        "# Todas as colunas são categóricas\n",
        "categorical_features = X.columns.tolist()\n",
        "\n",
        "preprocessor = ColumnTransformer(\n",
        "    transformers=[\n",
        "        ('cat', OneHotEncoder(handle_unknown='ignore'), categorical_features)\n",
        "    ]\n",
        ")\n",
        "\n",
        "pipelines = []\n",
        "\n",
        "models = {\n",
        "    'KNN': KNeighborsClassifier(),\n",
        "    'DecisionTree': DecisionTreeClassifier(),\n",
        "    'NaiveBayes': GaussianNB(),\n",
        "    'SVM': SVC(probability=True)\n",
        "}\n",
        "\n",
        "results = []\n",
        "names = []\n",
        "\n",
        "for nome, modelo in models.items():\n",
        "    if nome in ['KNN', 'SVM']:\n",
        "        pipeline = Pipeline(steps=[\n",
        "            ('preprocessor', preprocessor),\n",
        "            ('scaler', StandardScaler(with_mean=False)),\n",
        "            ('classifier', modelo)\n",
        "        ])\n",
        "    # O GaussianNB não aceita sparse matrix (padrão do OneHotEncoder), então precisei configurar o OneHotEncoder para gerar uma saida densa.\n",
        "    elif nome == 'NaiveBayes':\n",
        "        preprocessor_dense = ColumnTransformer([\n",
        "            ('cat', OneHotEncoder(handle_unknown='ignore', sparse_output=False), categorical_features)\n",
        "        ])\n",
        "        pipeline = Pipeline(steps=[\n",
        "            ('preprocessor', preprocessor_dense),\n",
        "            ('classifier', modelo)\n",
        "        ])\n",
        "    # caso DecisionTree não utilizamos o processor.\n",
        "    else:\n",
        "        pipeline = Pipeline(steps=[\n",
        "            ('preprocessor', preprocessor),\n",
        "            ('classifier', modelo)\n",
        "        ])\n",
        "\n",
        "    pipelines.append((nome, pipeline))\n",
        "\n",
        "    pipeline.fit(X_train, y_train_encoded)\n",
        "    # mostrando a acurária\n",
        "    score = pipeline.score(X_test, y_test_encoded)\n",
        "    cv_results = cross_val_score(pipeline, X_train, y_train_encoded, cv=kfold, scoring=scoring)\n",
        "    results.append(cv_results)\n",
        "    names.append(nome)\n",
        "    print(f\"{nome} - Score: {score:.4f} - Acurácia média na validação cruzada: {cv_results.mean():.4f}\")\n",
        "\n",
        "# Boxplot de comparação dos modelos\n",
        "fig = plt.figure(figsize=(15,10))\n",
        "fig.suptitle('Comparação dos Modelos')\n",
        "ax = fig.add_subplot(111)\n",
        "plt.boxplot(results)\n",
        "ax.set_xticklabels(names)\n",
        "plt.show()\n",
        "\n"
      ],
      "metadata": {
        "colab": {
          "base_uri": "https://localhost:8080/",
          "height": 1000
        },
        "id": "jsukrNjQhluF",
        "outputId": "22940cea-c0b4-466f-976b-72e5c4cad5f0"
      },
      "execution_count": 27,
      "outputs": [
        {
          "output_type": "stream",
          "name": "stdout",
          "text": [
            "KNN - Score: 0.9951 - Acurácia média na validação cruzada: 0.9933\n",
            "DecisionTree - Score: 0.9971 - Acurácia média na validação cruzada: 0.9930\n",
            "NaiveBayes - Score: 0.9877 - Acurácia média na validação cruzada: 0.9854\n",
            "SVM - Score: 0.9967 - Acurácia média na validação cruzada: 0.9944\n"
          ]
        },
        {
          "output_type": "display_data",
          "data": {
            "text/plain": [
              "<Figure size 1500x1000 with 1 Axes>"
            ],
            "image/png": "[encoded data removed]"
          },
          "metadata": {}
        }
      ]
    },
    {
      "cell_type": "markdown",
      "source": [
        "Se tudo rodou como deveria para test_size=0.3 e random_state=42 encontramos o seguite:\n",
        "\n",
        "| Modelo           | Score no Teste | Acurácia Média na Validação Cruzada |\n",
        "| ---------------- | -------------- | ----------------------------------- |\n",
        "| **KNN**          | 0.9951         | 0.9933                              |\n",
        "| **DecisionTree** | 0.9971         | 0.9930                              |\n",
        "| **NaiveBayes**   | 0.9877         | 0.9854                              |\n",
        "| **SVM**          | 0.9967         | 0.9944                              |\n",
        "\n",
        "\n"
      ],
      "metadata": {
        "id": "72JcCdcjnKYn"
      }
    },
    {
      "cell_type": "markdown",
      "source": [
        "## 5 Otimização de hiperparâmetros\n",
        "\n"
      ],
      "metadata": {
        "id": "2gstpQLFqfgs"
      }
    },
    {
      "cell_type": "markdown",
      "source": [
        "Os dados são todos catégóricos, então não usarei StandardScaler nem MinMaxScaler."
      ],
      "metadata": {
        "id": "mG3_jVwvTZ3T"
      }
    },
    {
      "cell_type": "markdown",
      "source": [
        "### KNN\n",
        "A acurácia do KNN inicialmente foi de 0.9951. Utilizando o GridSearchCV para variar os parâmetros, quero encontrar os melhores parâmetros e a acurárias."
      ],
      "metadata": {
        "id": "6yepzkLR4mqK"
      }
    },
    {
      "cell_type": "code",
      "source": [
        "from sklearn.model_selection import GridSearchCV\n",
        "\n",
        "\n",
        "pipeline_knn = Pipeline([\n",
        "    ('preprocessor', preprocessor),\n",
        "    ('scaler', StandardScaler(with_mean=False)),\n",
        "    ('classifier', KNeighborsClassifier())\n",
        "])\n",
        "\n",
        "param_grid_knn = {\n",
        "    'classifier__n_neighbors': [3, 5, 7, 9],\n",
        "    'classifier__weights': ['uniform', 'distance'],\n",
        "    'classifier__metric': ['euclidean', 'manhattan']\n",
        "}\n",
        "\n",
        "grid_knn = GridSearchCV(pipeline_knn, param_grid_knn, cv=5, scoring='accuracy')\n",
        "grid_knn.fit(X_train, y_train_encoded)\n",
        "\n",
        "# Atualiza o pipeline com os melhores parâmetros\n",
        "best_pipeline_knn = grid_knn.best_estimator_\n",
        "\n",
        "# Agora sim, avalia com o pipeline otimizado\n",
        "cv_results = cross_val_score(best_pipeline_knn, X_train, y_train_encoded, cv=kfold, scoring=scoring)\n",
        "results.append(cv_results)\n",
        "names.append('grid_knn')\n",
        "\n",
        "# Avaliação final\n",
        "test_accuracy = grid_knn.score(X_test, y_test_encoded)\n",
        "\n",
        "# Exibe resultados\n",
        "print(f\"Melhor média de acurácia na validação cruzada (GridSearchCV): {grid_knn.best_score_:.4f}\")\n",
        "print(\"Melhores parâmetros (KNN):\", grid_knn.best_params_)\n",
        "\n",
        "acc_test_knn = best_pipeline_knn.score(X_test, y_test_encoded)\n",
        "print(f\"[KNN] Acurácia no teste (dados não vistos): {acc_test_knn:.4f}\")\n",
        "\n",
        "\n",
        "joblib.dump(best_pipeline_knn, 'best_model_knn.pkl')\n",
        "print(\"Modelo salvo em 'best_model_knn.pkl'\")"
      ],
      "metadata": {
        "colab": {
          "base_uri": "https://localhost:8080/"
        },
        "id": "numrOtZzoJLE",
        "outputId": "cff08269-c961-4bd1-fba5-f2bc35352730"
      },
      "execution_count": 15,
      "outputs": [
        {
          "output_type": "stream",
          "name": "stdout",
          "text": [
            "Acurácia média na validação cruzada (melhor modelo): 0.9937\n",
            "Melhores parâmetros (KNN): {'classifier__metric': 'manhattan', 'classifier__n_neighbors': 3, 'classifier__weights': 'uniform'}\n",
            "Acurácia (melhor média no GridSearch): 0.9937\n",
            "Acurácia no teste: 0.9930\n",
            "Modelo salvo em 'best_model_knn.pkl'\n"
          ]
        }
      ]
    },
    {
      "cell_type": "markdown",
      "source": [
        "Nessa configuração do KNN {'classifier__metric': 'manhattan', 'classifier__n_neighbors': 3, 'classifier__weights': 'uniform'} a acurácia média chegou em 0.9937 na validação cruzada."
      ],
      "metadata": {
        "id": "iRNddvYnopSM"
      }
    },
    {
      "cell_type": "markdown",
      "source": [
        "### Árvore de Classificação\n",
        "\n",
        "Utilizando esse algoritmo obtemos acurácia 0.9971. Utilizei o GridSearch para avaliar o desempenho:"
      ],
      "metadata": {
        "id": "YPkaepvx0uK6"
      }
    },
    {
      "cell_type": "code",
      "source": [
        "from sklearn.tree import DecisionTreeClassifier\n",
        "from sklearn.model_selection import GridSearchCV, cross_val_score\n",
        "from sklearn.pipeline import Pipeline\n",
        "\n",
        "pipeline_dt = Pipeline([\n",
        "    ('preprocessor', preprocessor),\n",
        "    ('classifier', DecisionTreeClassifier(random_state=42))\n",
        "])\n",
        "\n",
        "# Definindo a grade de hiperparâmetros\n",
        "param_grid_dt = {\n",
        "    'classifier__max_depth': [3, 5, 10, None],\n",
        "    'classifier__min_samples_split': [2, 5, 10, 20],\n",
        "    'classifier__criterion': ['gini', 'entropy']\n",
        "}\n",
        "\n",
        "# Executando GridSearchCV\n",
        "grid_dt = GridSearchCV(pipeline_dt, param_grid_dt, cv=5, scoring='accuracy')\n",
        "grid_dt.fit(X_train, y_train_encoded)\n",
        "\n",
        "# Atualizando o pipeline com os melhores parâmetros\n",
        "best_pipeline_dt = grid_dt.best_estimator_\n",
        "\n",
        "# Avaliando com cross_val_score usando os melhores parâmetros\n",
        "cv_results = cross_val_score(best_pipeline_dt, X_train, y_train_encoded, cv=kfold, scoring=scoring)\n",
        "results.append(cv_results)\n",
        "names.append('grid_dt')\n",
        "\n",
        "# Exibindo os resultados\n",
        "print(f\"Melhor média de acurácia na validação cruzada (GridSearchCV):: {grid_dt.best_score_:.4f}\")\n",
        "print(\"Melhores parâmetros (DecisionTreeClassifier):\", grid_dt.best_params_)\n",
        "\n",
        "acc_test_dt = best_pipeline_dt.score(X_test, y_test_encoded)\n",
        "print(f\"[DecisionTreeClassifier] Acurácia no teste (dados não vistos): {acc_test_dt:.4f}\")\n",
        "\n",
        "joblib.dump(best_pipeline_dt, 'best_model_dt.pkl')\n",
        "print(\"Modelo salvo em 'best_model_dt.pkl'\")\n"
      ],
      "metadata": {
        "colab": {
          "base_uri": "https://localhost:8080/"
        },
        "id": "NKLK1I2erwU6",
        "outputId": "15df8368-c32d-4169-f8f4-716c7e4f8058"
      },
      "execution_count": 22,
      "outputs": [
        {
          "output_type": "stream",
          "name": "stdout",
          "text": [
            "Melhor média de acurácia na validação cruzada (GridSearchCV):: 0.9931\n",
            "Melhores parâmetros (DecisionTreeClassifier): {'classifier__criterion': 'gini', 'classifier__max_depth': 10, 'classifier__min_samples_split': 20}\n",
            "[DecisionTreeClassifier] Acurácia no teste (dados não vistos): 0.9971\n",
            "Modelo salvo em 'best_model_dt.pkl'\n"
          ]
        }
      ]
    },
    {
      "cell_type": "markdown",
      "source": [
        "Vemos aqui que o aparentemente a configuração padrão e a otimizada obtiveram o mesmo valor de acurária."
      ],
      "metadata": {
        "id": "nMeamiCkx3gs"
      }
    },
    {
      "cell_type": "markdown",
      "source": [
        "### Naive Bayes\n",
        "\n",
        "O modelo original (`GaussianNB`) obteve acurácia de 0.9877.\n",
        "Aqui vou usar o MultinomialNB.\n"
      ],
      "metadata": {
        "id": "XaIPExCY2R2K"
      }
    },
    {
      "cell_type": "code",
      "source": [
        "from sklearn.naive_bayes import MultinomialNB\n",
        "from sklearn.compose import ColumnTransformer\n",
        "from sklearn.preprocessing import OneHotEncoder\n",
        "from sklearn.pipeline import Pipeline\n",
        "from sklearn.model_selection import GridSearchCV, cross_val_score\n",
        "\n",
        "# Pré-processamento ajustado para Naive Bayes (denso)\n",
        "preprocessor_dense = ColumnTransformer([\n",
        "    ('cat', OneHotEncoder(handle_unknown='ignore', sparse_output=False), categorical_features)\n",
        "], remainder='passthrough')\n",
        "\n",
        "# Pipeline Naive Bayes\n",
        "pipeline_nb = Pipeline(steps=[\n",
        "    ('preprocessor', preprocessor_dense),\n",
        "    ('classifier', MultinomialNB())\n",
        "])\n",
        "\n",
        "# Grade de hiperparâmetros\n",
        "param_grid = {\n",
        "    'classifier__alpha': [0.1, 0.5, 1.0, 2.0],\n",
        "    'classifier__fit_prior': [True, False]\n",
        "}\n",
        "\n",
        "# GridSearchCV (no treino, como os outros modelos)\n",
        "grid_nb = GridSearchCV(pipeline_nb, param_grid, cv=5, scoring='accuracy')\n",
        "grid_nb.fit(X_train, y_train_encoded)\n",
        "\n",
        "# Atualizando o pipeline com os melhores hiperparâmetros\n",
        "best_pipeline_nb = grid_nb.best_estimator_\n",
        "\n",
        "# Validação cruzada com os melhores parâmetros\n",
        "cv_results = cross_val_score(best_pipeline_nb, X_train, y_train_encoded, cv=kfold, scoring=scoring)\n",
        "results.append(cv_results)\n",
        "names.append('grid_nb')\n",
        "\n",
        "# Exibindo os resultados\n",
        "print(f\"Melhor média de acurácia na validação cruzada (GridSearchCV):: {grid_nb.best_score_:.4f}\")\n",
        "print(\"Melhores parâmetros (MultinomialNB):\", grid_nb.best_params_)\n",
        "\n",
        "acc_test_nb = best_pipeline_nb.score(X_test, y_test_encoded)\n",
        "print(f\"[NaiveBayes] Acurácia no teste (dados não vistos): {acc_test_nb:.4f}\")\n",
        "\n",
        "joblib.dump(best_pipeline_nb, 'best_model_nb.pkl')\n",
        "print(\"Modelo salvo em 'best_model_nb.pkl'\")\n",
        "\n"
      ],
      "metadata": {
        "colab": {
          "base_uri": "https://localhost:8080/"
        },
        "id": "DAKoaQCM21nj",
        "outputId": "a717b0b2-2107-4347-d92f-98a6e67c9f8c"
      },
      "execution_count": 25,
      "outputs": [
        {
          "output_type": "stream",
          "name": "stdout",
          "text": [
            "Melhor média de acurácia na validação cruzada (GridSearchCV):: 0.9851\n",
            "Melhores parâmetros (MultinomialNB): {'classifier__alpha': 0.1, 'classifier__fit_prior': True}\n",
            "[NaiveBayes] Acurácia no teste (dados não vistos): 0.9869\n",
            "Modelo salvo em 'best_model_nb.pkl'\n"
          ]
        }
      ]
    },
    {
      "cell_type": "markdown",
      "source": [
        "Pelo visto, a acurácia diminui utilizando MultinomialNB e possibilitando mudar os parâmetros de alpha e fit_prior. Esse é um modelo que definitivamente é candidato a descarte."
      ],
      "metadata": {
        "id": "MEG9otkI34s6"
      }
    },
    {
      "cell_type": "markdown",
      "source": [
        "### SVM\n",
        "\n",
        "O modelo original obteve acurácia de 0.9967. USadno GridSearchCV, vou variar os seguintes parâmetros:\n",
        "\n",
        "- C: parâmetro de penalidade de margem (valores menores toleram mais erros).\n",
        "- kernel: tipo de kernel ('linear', 'rbf', 'poly', 'sigmoid').\n",
        "- gamma: controla a influência dos exemplos de treino (apenas para 'rbf', 'poly', 'sigmoid')."
      ],
      "metadata": {
        "id": "_enqt4AA4xuq"
      }
    },
    {
      "cell_type": "code",
      "source": [
        "# Pré-processador e pipeline\n",
        "preprocessor = ColumnTransformer(\n",
        "    transformers=[\n",
        "        ('cat', OneHotEncoder(handle_unknown='ignore'), categorical_features)\n",
        "    ]\n",
        ")\n",
        "\n",
        "pipeline_svm = Pipeline(steps=[\n",
        "    ('preprocessor', preprocessor),\n",
        "    ('scaler', StandardScaler(with_mean=False)),  # Necessário após OneHotEncoder\n",
        "    ('classifier', SVC())\n",
        "])\n",
        "\n",
        "# Grade de hiperparâmetros\n",
        "param_grid = {\n",
        "    'classifier__C': [0.1, 1, 10],\n",
        "    'classifier__kernel': ['linear', 'rbf', 'poly', 'sigmoid'],\n",
        "    'classifier__gamma': ['scale', 'auto'],  # Só afeta alguns kernels\n",
        "    'classifier__probability': [True]\n",
        "}\n",
        "\n",
        "# GridSearchCV\n",
        "grid_svm = GridSearchCV(pipeline_svm, param_grid, cv=5, scoring='accuracy')\n",
        "grid_svm.fit(X_train, y_train_encoded)\n",
        "\n",
        "# Pegando o pipeline otimizado\n",
        "best_pipeline_svm = grid_svm.best_estimator_\n",
        "\n",
        "# Validação cruzada com os melhores hiperparâmetros\n",
        "cv_results = cross_val_score(best_pipeline_svm, X_train, y_train_encoded, cv=kfold, scoring=scoring)\n",
        "results.append(cv_results)\n",
        "names.append('grid_svm')\n",
        "\n",
        "\n",
        "# Exibindo os resultados\n",
        "print(f\"Melhor média de acurácia na validação cruzada (GridSearchCV):: {grid_svm.best_score_:.4f}\")\n",
        "print(\"Melhores parâmetros (SVM):\", grid_svm.best_params_)\n",
        "\n",
        "acc_test_svm = best_pipeline_svm.score(X_test, y_test_encoded)\n",
        "print(f\"[SVM] Acurácia no teste (dados não vistos): {acc_test_svm:.4f}\")\n",
        "\n",
        "joblib.dump(best_pipeline_svm, 'best_model_svm.pkl')\n",
        "print(\"Modelo salvo em 'best_model_svm.pkl'\")\n"
      ],
      "metadata": {
        "colab": {
          "base_uri": "https://localhost:8080/"
        },
        "id": "VHXshmPQ5bcS",
        "outputId": "1a7555f1-7d43-48e5-ad7a-cab148cb6411"
      },
      "execution_count": 26,
      "outputs": [
        {
          "output_type": "stream",
          "name": "stdout",
          "text": [
            "Melhor média de acurácia na validação cruzada (GridSearchCV):: 0.9944\n",
            "Melhores parâmetros (SVM): {'classifier__C': 1, 'classifier__gamma': 'scale', 'classifier__kernel': 'rbf', 'classifier__probability': True}\n",
            "[NaiveBayes] Acurácia no teste (dados não vistos): 0.9967\n",
            "Modelo salvo em 'best_model_svm.pkl'\n"
          ]
        }
      ]
    },
    {
      "cell_type": "markdown",
      "source": [
        "A acurácia caiu para 0.9944 utilizando 'classifier__C': 1, 'classifier__gamma': 'scale' e 'classifier__kernel': 'rbf'."
      ],
      "metadata": {
        "id": "CNwxLZSj5yqZ"
      }
    },
    {
      "cell_type": "markdown",
      "source": [
        "## Avaliação e comparação de resultados"
      ],
      "metadata": {
        "id": "fASD2XYsXbRs"
      }
    },
    {
      "cell_type": "markdown",
      "source": [
        "\n",
        "| Modelo        | Score Inicial | Acurácia CV Antes | Acurácia CV GridSearch | Score no Teste Final |\n",
        "|---------------|---------------|-------------------|------------------------|----------------------|\n",
        "| **KNN**       | 0.9951        | 0.9933            | 0.9937                 | 0.9930               |\n",
        "| **DecisionTree** | 0.9971      | 0.9930            | 0.9931                 | 0.9971               |\n",
        "| **NaiveBayes**  | 0.9877      | 0.9854            | 0.9851                 | 0.9869               |\n",
        "| **SVM**       | 0.9967        | 0.9944            | 0.9944                 | 0.9967               |\n",
        "\n",
        "\n",
        "* **DecisionTree** teve o melhor desempenho no teste: **0.9971**\n",
        "* **SVM** foi muito consistente: mesma média na validação cruzada e bom score no teste (**0.9967**)\n",
        "* **KNN** foi bastante estável, mas o score no teste caiu um pouco (**0.9930**)\n",
        "* **NaiveBayes** foi o mais fraco, com uma acurácia menor (**0.9869**)"
      ],
      "metadata": {
        "id": "WXXcgTx56tlm"
      }
    },
    {
      "cell_type": "code",
      "source": [
        "fig = plt.figure(figsize=(15,10))\n",
        "fig.suptitle('Comparação dos Modelos')\n",
        "ax = fig.add_subplot(111)\n",
        "plt.boxplot(results)\n",
        "ax.set_xticklabels(names)\n",
        "plt.show()"
      ],
      "metadata": {
        "colab": {
          "base_uri": "https://localhost:8080/",
          "height": 930
        },
        "id": "KBuyJRTBaSJA",
        "outputId": "2b2fc140-6d0f-405e-c4a3-ca4cf92634b1"
      },
      "execution_count": 10,
      "outputs": [
        {
          "output_type": "display_data",
          "data": {
            "text/plain": [
              "<Figure size 1500x1000 with 1 Axes>"
            ],
            "image/png": "[encoded data removed]"
          },
          "metadata": {}
        }
      ]
    },
    {
      "cell_type": "code",
      "source": [
        "medias = [round(float(i.mean()), 4) for i in results]\n",
        "medias_clean = [0 if np.isnan(x) else x for x in medias]\n",
        "\n",
        "plt.figure(figsize=(12, 4))  # menos altura\n",
        "bars = plt.bar(range(len(names)), medias_clean, color='skyblue')\n",
        "\n",
        "names_x = [f'{i} ({m})' for i,m in zip(names, medias_clean)]\n",
        "\n",
        "plt.xticks(range(len(names)), names_x, rotation=45, ha='right', fontsize=8)\n",
        "plt.ylabel('Acurácia média')\n",
        "plt.title('Comparação de modelos - Acurácia média')\n",
        "plt.ylim(0.98, 1.0)\n",
        "\n",
        "plt.tight_layout()\n",
        "plt.show()\n"
      ],
      "metadata": {
        "colab": {
          "base_uri": "https://localhost:8080/",
          "height": 407
        },
        "id": "r4onK21UXcI8",
        "outputId": "54fb1e11-dd8e-4022-f3b8-80bb2649590d"
      },
      "execution_count": 11,
      "outputs": [
        {
          "output_type": "display_data",
          "data": {
            "text/plain": [
              "<Figure size 1200x400 with 1 Axes>"
            ],
            "image/png": "[encoded data removed]"
          },
          "metadata": {}
        }
      ]
    },
    {
      "cell_type": "code",
      "source": [
        "print(names_x)"
      ],
      "metadata": {
        "colab": {
          "base_uri": "https://localhost:8080/"
        },
        "id": "fgd7se00kKFo",
        "outputId": "48c40767-26a0-40c4-870d-8a98931c38f6"
      },
      "execution_count": 12,
      "outputs": [
        {
          "output_type": "stream",
          "name": "stdout",
          "text": [
            "['KNN (0.9933)', 'DecisionTree (0.993)', 'NaiveBayes (0.9854)', 'SVM (0.9944)', 'grid_knn (0.9938)', 'grid_dt (0.9935)', 'grid_nb (0.9851)', 'grid_svm (0.9944)']\n"
          ]
        }
      ]
    },
    {
      "cell_type": "markdown",
      "source": [
        "Com os resultados apresentados, poderíamos escolher o KNN otimizado ou o SVM otimizado."
      ],
      "metadata": {
        "id": "j2E5EnuR6PZZ"
      }
    },
    {
      "cell_type": "markdown",
      "source": [
        "## 6. Exportação do modelo treinado\n",
        "\n",
        "Todos os modelos já foram exportados."
      ],
      "metadata": {
        "id": "1u5jHioZBPjy"
      }
    },
    {
      "cell_type": "code",
      "source": [
        "# salvar o modelo\n",
        "joblib.dump(best_pipeline_svm, 'modelo_knn_cogumelos.pkl')\n",
        "\n",
        "# depois, para carregar:\n",
        "# modelo_carregado = joblib.load('modelo_knn_cogumelos.pkl')"
      ],
      "metadata": {
        "colab": {
          "base_uri": "https://localhost:8080/"
        },
        "id": "ZEFibCUXBOAZ",
        "outputId": "52c36181-dc31-4c5c-d888-92403c6f34d8"
      },
      "execution_count": 13,
      "outputs": [
        {
          "output_type": "execute_result",
          "data": {
            "text/plain": [
              "['modelo_knn_cogumelos.pkl']"
            ]
          },
          "metadata": {},
          "execution_count": 13
        }
      ]
    },
    {
      "cell_type": "code",
      "source": [
        "import joblib\n",
        "import pandas as pd\n",
        "\n",
        "# Carrega o modelo\n",
        "modelo = joblib.load(\"modelo_knn_cogumelos.pkl\")\n",
        "\n",
        "# Lista completa de atributos (exceto o alvo)\n",
        "atributos = ['cap-shape', 'cap-surface', 'cap-color', 'bruises', 'odor']\n",
        "\n",
        "# Dado parcial (exemplo real)\n",
        "entrada_parcial = {\n",
        "    'cap-shape': 'c',\n",
        "    'cap-surface': 'x',\n",
        "    'cap-color': 'y',\n",
        "    'bruises': 'f',\n",
        "    'odor': 'n'\n",
        "}\n",
        "\n",
        "# Preenche os outros com valores neutros ou '?'\n",
        "entrada_completa = {col: entrada_parcial.get(col, '?') for col in atributos}\n",
        "\n",
        "# Cria DataFrame com uma linha\n",
        "df_teste = pd.DataFrame([entrada_completa])\n",
        "\n",
        "# Faz a previsão\n",
        "probabilidades = modelo.predict_proba(df_teste)\n",
        "\n",
        "# Mapear o índice da classe\n",
        "classes = modelo.classes_\n",
        "mapa_classes = {0: 'comestível', 1: 'venenoso'}\n",
        "\n",
        "label_encoder.fit(iris['classificacao'])\n",
        "print(label_encoder.classes_)\n",
        "\n",
        "# Mostra as chances\n",
        "for classe, prob in zip(classes, probabilidades[0]):\n",
        "    nome_legivel = mapa_classes.get(classe, classe)\n",
        "    print(f\"Probabilidade de ser {nome_legivel}: {prob:.2%}\")"
      ],
      "metadata": {
        "id": "Nk-xJFamRGlz",
        "outputId": "8186a5da-370f-4a34-8635-20572d7d0383",
        "colab": {
          "base_uri": "https://localhost:8080/"
        }
      },
      "execution_count": 14,
      "outputs": [
        {
          "output_type": "stream",
          "name": "stdout",
          "text": [
            "['e' 'p']\n",
            "Probabilidade de ser e: 0.00%\n",
            "Probabilidade de ser p: 100.00%\n"
          ]
        }
      ]
    }
  ]
}