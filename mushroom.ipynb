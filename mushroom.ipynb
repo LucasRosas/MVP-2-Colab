{
  "nbformat": 4,
  "nbformat_minor": 0,
  "metadata": {
    "colab": {
      "provenance": [],
      "authorship_tag": "ABX9TyPdJvPyJF8purmtjoE7qHbB",
      "include_colab_link": true
    },
    "kernelspec": {
      "name": "python3",
      "display_name": "Python 3"
    },
    "language_info": {
      "name": "python"
    }
  },
  "cells": [
    {
      "cell_type": "markdown",
      "metadata": {
        "id": "view-in-github",
        "colab_type": "text"
      },
      "source": [
        "<a href=\"https://colab.research.google.com/github/LucasRosas/MVP-2-Colab/blob/main/mushroom.ipynb\" target=\"_parent\"><img src=\"https://colab.research.google.com/assets/colab-badge.svg\" alt=\"Open In Colab\"/></a>"
      ]
    },
    {
      "cell_type": "code",
      "execution_count": 1,
      "metadata": {
        "colab": {
          "base_uri": "https://localhost:8080/",
          "height": 106
        },
        "id": "Ltl8Y8OLaIYr",
        "outputId": "7b5f1f5d-c9c7-45d7-cbd1-7deac78e8315"
      },
      "outputs": [
        {
          "output_type": "error",
          "ename": "SyntaxError",
          "evalue": "invalid syntax (ipython-input-1-3421345546.py, line 1)",
          "traceback": [
            "\u001b[0;36m  File \u001b[0;32m\"/tmp/ipython-input-1-3421345546.py\"\u001b[0;36m, line \u001b[0;32m1\u001b[0m\n\u001b[0;31m    url_dados = https://raw.githubusercontent.com/LucasRosas/MVP-2-Colab/refs/heads/main/mushroom/agaricus-lepiota.data\u001b[0m\n\u001b[0m                     ^\u001b[0m\n\u001b[0;31mSyntaxError\u001b[0m\u001b[0;31m:\u001b[0m invalid syntax\n"
          ]
        }
      ],
      "source": [
        "import pandas as pd\n",
        "\n",
        "url_dados = 'https://raw.githubusercontent.com/LucasRosas/MVP-2-Colab/refs/heads/main/mushroom/agaricus-lepiota.data'\n",
        "\n",
        "# labels dos atributos do dataset\n",
        "labels_atributos = ['classificacao', 'cap-shape',\n",
        "    'cap-surface:             ',\n",
        "    'cap-color:               ',\n",
        "    'bruises?:                ',\n",
        "    'odor:                    ',\n",
        "    'gill-attachment:         ',\n",
        "    'gill-spacing:            ',\n",
        "    'gill-size:               ',\n",
        "    'gill-color:              ',\n",
        "    'stalk-shape:             ',\n",
        "    'stalk-root:              ',\n",
        "    'stalk-surface-above-ring:',\n",
        "    'stalk-surface-below-ring:',\n",
        "    'stalk-color-above-ring:  ',\n",
        "    'stalk-color-below-ring:  ',\n",
        "    'veil-type:               ',\n",
        "    'veil-color:              ',\n",
        "    'ring-number:             ',\n",
        "    'ring-type:               ',\n",
        "    'spore-print-color:       ',\n",
        "    'population:              ',\n",
        "    'habitat:                 ',]\n",
        "# carga do dataset através do csv\n",
        "iris = pd.read_csv(url_dados, names=labels_atributos)\n",
        "\n",
        "# verifica o tipo de iris\n",
        "print(type(iris))\n",
        "\n",
        "# exibe as 5 primeiras linhas\n",
        "iris.head()"
      ]
    },
    {
      "cell_type": "code",
      "source": [],
      "metadata": {
        "id": "zVTOTIewaMty"
      },
      "execution_count": null,
      "outputs": []
    }
  ]
}