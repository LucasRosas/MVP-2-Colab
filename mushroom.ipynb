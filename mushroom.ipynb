{
  "cells": [
    {
      "cell_type": "markdown",
      "metadata": {
        "colab_type": "text",
        "id": "view-in-github"
      },
      "source": [
        "<a href=\"https://colab.research.google.com/github/LucasRosas/MVP-2-Colab/blob/main/mushroom.ipynb\" target=\"_parent\"><img src=\"https://colab.research.google.com/assets/colab-badge.svg\" alt=\"Open In Colab\"/></a>"
      ]
    },
    {
      "cell_type": "code",
      "execution_count": 1,
      "metadata": {
        "colab": {
          "base_uri": "https://localhost:8080/",
          "height": 106
        },
        "id": "Ltl8Y8OLaIYr",
        "outputId": "7b5f1f5d-c9c7-45d7-cbd1-7deac78e8315"
      },
      "outputs": [
        {
          "ename": "ModuleNotFoundError",
          "evalue": "No module named 'pandas'",
          "output_type": "error",
          "traceback": [
            "\u001b[31m---------------------------------------------------------------------------\u001b[39m",
            "\u001b[31mModuleNotFoundError\u001b[39m                       Traceback (most recent call last)",
            "\u001b[36mCell\u001b[39m\u001b[36m \u001b[39m\u001b[32mIn[1]\u001b[39m\u001b[32m, line 1\u001b[39m\n\u001b[32m----> \u001b[39m\u001b[32m1\u001b[39m \u001b[38;5;28;01mimport\u001b[39;00m\u001b[38;5;250m \u001b[39m\u001b[34;01mpandas\u001b[39;00m\u001b[38;5;250m \u001b[39m\u001b[38;5;28;01mas\u001b[39;00m\u001b[38;5;250m \u001b[39m\u001b[34;01mpd\u001b[39;00m\n\u001b[32m      3\u001b[39m url_dados = \u001b[33m'\u001b[39m\u001b[33mhttps://raw.githubusercontent.com/LucasRosas/MVP-2-Colab/refs/heads/main/mushroom/agaricus-lepiota.data\u001b[39m\u001b[33m'\u001b[39m\n\u001b[32m      5\u001b[39m \u001b[38;5;66;03m# labels dos atributos do dataset\u001b[39;00m\n",
            "\u001b[31mModuleNotFoundError\u001b[39m: No module named 'pandas'"
          ]
        }
      ],
      "source": [
        "import pandas as pd\n",
        "\n",
        "url_dados = 'https://raw.githubusercontent.com/LucasRosas/MVP-2-Colab/refs/heads/main/mushroom/agaricus-lepiota.data'\n",
        "\n",
        "# labels dos atributos do dataset\n",
        "labels_atributos = ['classificacao', 'cap-shape',\n",
        "    'cap-surface',\n",
        "    'cap-color',\n",
        "    'bruises?',\n",
        "    'odor',\n",
        "    'gill-attachment',\n",
        "    'gill-spacing',\n",
        "    'gill-size',\n",
        "    'gill-color',\n",
        "    'stalk-shape',\n",
        "    'stalk-root',\n",
        "    'stalk-surface-above-ring',\n",
        "    'stalk-surface-below-ring',\n",
        "    'stalk-color-above-ring',\n",
        "    'stalk-color-below-ring',\n",
        "    'veil-type',\n",
        "    'veil-color',\n",
        "    'ring-number',\n",
        "    'ring-type',\n",
        "    'spore-print-color',\n",
        "    'population',\n",
        "    'habitat']\n",
        "# carga do dataset através do csv\n",
        "iris = pd.read_csv(url_dados, names=labels_atributos)\n",
        "\n",
        "# verifica o tipo de iris\n",
        "print(type(iris))\n",
        "\n",
        "# exibe as 5 primeiras linhas\n",
        "iris.head()"
      ]
    },
    {
      "cell_type": "code",
      "execution_count": null,
      "metadata": {
        "id": "zVTOTIewaMty"
      },
      "outputs": [],
      "source": []
    }
  ],
  "metadata": {
    "colab": {
      "authorship_tag": "ABX9TyPdJvPyJF8purmtjoE7qHbB",
      "include_colab_link": true,
      "provenance": []
    },
    "kernelspec": {
      "display_name": "Python 3",
      "name": "python3"
    },
    "language_info": {
      "codemirror_mode": {
        "name": "ipython",
        "version": 3
      },
      "file_extension": ".py",
      "mimetype": "text/x-python",
      "name": "python",
      "nbconvert_exporter": "python",
      "pygments_lexer": "ipython3",
      "version": "3.11.9"
    }
  },
  "nbformat": 4,
  "nbformat_minor": 0
}
